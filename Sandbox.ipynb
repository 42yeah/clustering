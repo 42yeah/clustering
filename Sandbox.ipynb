{
 "cells": [
  {
   "cell_type": "code",
   "execution_count": 1,
   "id": "5638b917-7cc0-42a9-875f-3240851e5ebb",
   "metadata": {},
   "outputs": [],
   "source": [
    "import numpy as np\n",
    "import matplotlib.pyplot as plt"
   ]
  },
  {
   "cell_type": "code",
   "execution_count": 8,
   "id": "f4395d2a-7d8d-45ee-9638-fcd7d0fa9f96",
   "metadata": {},
   "outputs": [],
   "source": [
    "# Hill-climbing algorithm?\n",
    "n_data = 100\n",
    "data = np.random.randn(100, 1)\n",
    "y = np.zeros((100, 1))"
   ]
  },
  {
   "cell_type": "code",
   "execution_count": 9,
   "id": "901f2bbd-7849-4706-a0f6-50e5755db7bb",
   "metadata": {},
   "outputs": [
    {
     "data": {
      "text/plain": [
       "<matplotlib.collections.PathCollection at 0x2d408e89ba0>"
      ]
     },
     "execution_count": 9,
     "metadata": {},
     "output_type": "execute_result"
    },
    {
     "data": {
      "image/png": "[encoded data removed]",
      "text/plain": [
       "<Figure size 432x288 with 1 Axes>"
      ]
     },
     "metadata": {
      "needs_background": "light"
     },
     "output_type": "display_data"
    }
   ],
   "source": [
    "plt.scatter(data, y)"
   ]
  },
  {
   "cell_type": "code",
   "execution_count": null,
   "id": "a382c3c5-8f71-4ccc-8519-af0ea4e0aa2b",
   "metadata": {},
   "outputs": [],
   "source": [
    "# Climb?\n",
    "x = 30\n",
    "\n",
    "for i in range(0, 10):\n",
    "    "
   ]
  }
 ],
 "metadata": {
  "kernelspec": {
   "display_name": "Python 3 (ipykernel)",
   "language": "python",
   "name": "python3"
  },
  "language_info": {
   "codemirror_mode": {
    "name": "ipython",
    "version": 3
   },
   "file_extension": ".py",
   "mimetype": "text/x-python",
   "name": "python",
   "nbconvert_exporter": "python",
   "pygments_lexer": "ipython3",
   "version": "3.10.0"
  }
 },
 "nbformat": 4,
 "nbformat_minor": 5
}
